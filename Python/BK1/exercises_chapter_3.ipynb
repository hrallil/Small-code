{
 "cells": [
  {
   "cell_type": "markdown",
   "metadata": {},
   "source": [
    "# Chapter 3: Data with Pandas\n",
    "This document contains code snippets to help you get started with the exercises."
   ]
  },
  {
   "cell_type": "code",
   "execution_count": null,
   "metadata": {},
   "outputs": [],
   "source": [
    "import pandas as pd\n",
    "import matplotlib.pyplot as plt\n",
    "import numpy as np\n",
    "%matplotlib inline"
   ]
  },
  {
   "cell_type": "markdown",
   "metadata": {},
   "source": [
    "## Example 3.1: Load and save data from files"
   ]
  },
  {
   "cell_type": "code",
   "execution_count": null,
   "metadata": {},
   "outputs": [],
   "source": [
    "%%writefile birch_tree.csv\n",
    "Flooded, Control\n",
    "1.45   , 1.70\n",
    "1.19   , 2.04\n",
    "1.05   , 1.49\n",
    "1.07   , 1.91"
   ]
  },
  {
   "cell_type": "code",
   "execution_count": null,
   "metadata": {},
   "outputs": [],
   "source": [
    "birch_tree = pd.read_csv('birch_tree.csv')\n",
    "birch_tree"
   ]
  },
  {
   "cell_type": "markdown",
   "metadata": {},
   "source": [
    "## Exercise 3.2: Common coding erroes\n",
    "Remove the `#` in the cells below and correct the errors."
   ]
  },
  {
   "cell_type": "code",
   "execution_count": null,
   "metadata": {},
   "outputs": [],
   "source": [
    "series = pd.Series([1,45 1,19 1,05 1,07])"
   ]
  },
  {
   "cell_type": "code",
   "execution_count": null,
   "metadata": {},
   "outputs": [],
   "source": [
    "s = Series([1.45, 1.19, 1.05, 1.07])"
   ]
  },
  {
   "cell_type": "code",
   "execution_count": null,
   "metadata": {},
   "outputs": [],
   "source": [
    "flooded data = pd.Series([1.45, 1.19, 1.05, 1.07])"
   ]
  },
  {
   "cell_type": "markdown",
   "metadata": {},
   "source": [
    "## Exercise 3.3: Eggs in baskets\n",
    "*No code is provided for this exercise*"
   ]
  },
  {
   "cell_type": "code",
   "execution_count": null,
   "metadata": {},
   "outputs": [],
   "source": []
  },
  {
   "cell_type": "markdown",
   "metadata": {},
   "source": [
    "## Exercise 3.4: Create and load a CSV file\n",
    "Correct and finish the code"
   ]
  },
  {
   "cell_type": "code",
   "execution_count": null,
   "metadata": {},
   "outputs": [],
   "source": [
    "%%writefile atp.csv\n",
    "... continue here ..."
   ]
  },
  {
   "cell_type": "code",
   "execution_count": null,
   "metadata": {},
   "outputs": [],
   "source": [
    "df = pd.read_csv('atp.csv')\n",
    "df"
   ]
  },
  {
   "cell_type": "code",
   "execution_count": null,
   "metadata": {},
   "outputs": [],
   "source": [
    "# The web-address for the Earth quake data\n",
    "f = 'https://earthquake.usgs.gov/earthquakes/feed/v1.0/summary/4.5_day.csv'"
   ]
  },
  {
   "cell_type": "markdown",
   "metadata": {},
   "source": [
    "## Exercise 3.5: Present data from researchers of the Life Sciences."
   ]
  },
  {
   "cell_type": "code",
   "execution_count": null,
   "metadata": {},
   "outputs": [],
   "source": [
    "corn_yields = pd.Series(\n",
    "    name = 'yield',\n",
    "    data = [\n",
    "        241, 230, 207, 219, 266, 167,\n",
    "        204, 144, 178, 158, 153,\n",
    "        187, 181, 196, 149, 183]\n",
    ")\n",
    "\n",
    "molar_widths = pd.Series(\n",
    "    data = [\n",
    "        6.1, 5.7, 6.0, 6.5, 6.0, 5.7,\n",
    "        6.1, 5.8, 5.9, 6.1, 6.2, 6.0,\n",
    "        6.3, 6.2, 6.1, 6.2, 6.0, 5.7,\n",
    "        6.2, 6.1, 5.9, 6.5, 5.4, 6.7,\n",
    "        5.9, 6.1, 5.9, 5.9, 6.1, 6.1]\n",
    ")"
   ]
  },
  {
   "cell_type": "code",
   "execution_count": null,
   "metadata": {
    "scrolled": false
   },
   "outputs": [],
   "source": [
    "corn_yields.plot.hist(bins=100)  # Set the bins to an appropriate value \n",
    "plt.title('Yield of a variety of hybrid corn in 16 locations in Illinois')\n",
    "plt.xlabel('bushels per acre')"
   ]
  },
  {
   "cell_type": "markdown",
   "metadata": {},
   "source": [
    "## Exercise 3.6: Presentation of popcorn data.\n",
    "Inset your own data ..."
   ]
  },
  {
   "cell_type": "code",
   "execution_count": null,
   "metadata": {},
   "outputs": [],
   "source": [
    "%%writefile popcorn.csv\n",
    "Poped,Size (longest),Size (shortes),Color\n",
    "yes,11,7,white\n",
    "no,13,6,white\n",
    "yes,5,4,brown\n",
    "yes,15,14,yellow"
   ]
  },
  {
   "cell_type": "code",
   "execution_count": null,
   "metadata": {},
   "outputs": [],
   "source": [
    "popcorn = pd.read_csv('popcorn.csv')"
   ]
  },
  {
   "cell_type": "markdown",
   "metadata": {},
   "source": [
    "## Exercise 3.7: Make a dot plot."
   ]
  },
  {
   "cell_type": "code",
   "execution_count": null,
   "metadata": {},
   "outputs": [],
   "source": [
    "# Import Pandas and matplotlib modules.\n",
    "import pandas as pd\n",
    "import matplotlib.pyplot as plt\n",
    "%matplotlib inline\n",
    "\n",
    "# Series with data.\n",
    "series = pd.Series(\n",
    "name = 'Infant mortality rate',\n",
    "data = [11.4, 44.7, 22.6, 7.7, 18.9, 20.9,\n",
    "        30.0, 24.7, 28.6, 18.8, 11.3, 26.5]\n",
    ")\n",
    "\n",
    "# Make dot plot.\n",
    "plt.figure(figsize=[6, 0.5])  # New elongated figure.\n",
    "plt.plot(      # Plot values agains zeros:\n",
    "    series,    # - values on x-axis,\n",
    "    series*0,  # - values on y-axis,\n",
    "    'o'        # - make dots.\n",
    ")\n",
    "plt.yticks([])   # Remove ticks on y-axis.\n",
    "plt.xlim(0, 50)  # Set limits on x-axis.\n",
    "plt.xlabel('Infant mortality rate in percent')\n",
    "plt.show()"
   ]
  }
 ],
 "metadata": {
  "kernelspec": {
   "display_name": "Python 3",
   "language": "python",
   "name": "python3"
  },
  "language_info": {
   "codemirror_mode": {
    "name": "ipython",
    "version": 3
   },
   "file_extension": ".py",
   "mimetype": "text/x-python",
   "name": "python",
   "nbconvert_exporter": "python",
   "pygments_lexer": "ipython3",
   "version": "3.7.3"
  }
 },
 "nbformat": 4,
 "nbformat_minor": 4
}
